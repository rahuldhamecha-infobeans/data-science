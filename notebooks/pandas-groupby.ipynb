{
 "cells": [
  {
   "cell_type": "code",
   "execution_count": null,
   "id": "initial_id",
   "metadata": {
    "collapsed": true
   },
   "outputs": [],
   "source": []
  },
  {
   "cell_type": "code",
   "execution_count": 1,
   "outputs": [],
   "source": [
    "import numpy as np\n",
    "import pandas as pd\n",
    "from numpy.random import randn"
   ],
   "metadata": {
    "collapsed": false,
    "ExecuteTime": {
     "end_time": "2023-09-04T10:31:03.977804511Z",
     "start_time": "2023-09-04T10:31:03.709128626Z"
    }
   },
   "id": "899d21a43d1bc7b1"
  },
  {
   "cell_type": "code",
   "execution_count": 2,
   "outputs": [],
   "source": [
    "data = {'Company' : ['GOOG','GOOG','MSFT','MSFT','FB','FB'],\n",
    "        'Person':['Rahul','Vishal','Sagar','Karan','Sharad','Sandeep'],\n",
    "        'Sales':[300,100,150,200,220,180]}"
   ],
   "metadata": {
    "collapsed": false,
    "ExecuteTime": {
     "end_time": "2023-09-04T10:34:07.317366035Z",
     "start_time": "2023-09-04T10:34:07.274244461Z"
    }
   },
   "id": "eb442ab6ee6b2336"
  },
  {
   "cell_type": "code",
   "execution_count": 3,
   "outputs": [],
   "source": [
    "data_frame = pd.DataFrame(data)"
   ],
   "metadata": {
    "collapsed": false,
    "ExecuteTime": {
     "end_time": "2023-09-04T10:34:25.855687017Z",
     "start_time": "2023-09-04T10:34:25.796861354Z"
    }
   },
   "id": "c04bb50d0bf85785"
  },
  {
   "cell_type": "code",
   "execution_count": 4,
   "outputs": [
    {
     "data": {
      "text/plain": "  Company   Person  Sales\n0    GOOG    Rahul    300\n1    GOOG   Vishal    100\n2    MSFT    Sagar    150\n3    MSFT    Karan    200\n4      FB   Sharad    220\n5      FB  Sandeep    180",
      "text/html": "<div>\n<style scoped>\n    .dataframe tbody tr th:only-of-type {\n        vertical-align: middle;\n    }\n\n    .dataframe tbody tr th {\n        vertical-align: top;\n    }\n\n    .dataframe thead th {\n        text-align: right;\n    }\n</style>\n<table border=\"1\" class=\"dataframe\">\n  <thead>\n    <tr style=\"text-align: right;\">\n      <th></th>\n      <th>Company</th>\n      <th>Person</th>\n      <th>Sales</th>\n    </tr>\n  </thead>\n  <tbody>\n    <tr>\n      <th>0</th>\n      <td>GOOG</td>\n      <td>Rahul</td>\n      <td>300</td>\n    </tr>\n    <tr>\n      <th>1</th>\n      <td>GOOG</td>\n      <td>Vishal</td>\n      <td>100</td>\n    </tr>\n    <tr>\n      <th>2</th>\n      <td>MSFT</td>\n      <td>Sagar</td>\n      <td>150</td>\n    </tr>\n    <tr>\n      <th>3</th>\n      <td>MSFT</td>\n      <td>Karan</td>\n      <td>200</td>\n    </tr>\n    <tr>\n      <th>4</th>\n      <td>FB</td>\n      <td>Sharad</td>\n      <td>220</td>\n    </tr>\n    <tr>\n      <th>5</th>\n      <td>FB</td>\n      <td>Sandeep</td>\n      <td>180</td>\n    </tr>\n  </tbody>\n</table>\n</div>"
     },
     "execution_count": 4,
     "metadata": {},
     "output_type": "execute_result"
    }
   ],
   "source": [
    "data_frame"
   ],
   "metadata": {
    "collapsed": false,
    "ExecuteTime": {
     "end_time": "2023-09-04T10:34:29.162006632Z",
     "start_time": "2023-09-04T10:34:29.111787048Z"
    }
   },
   "id": "9543e29374f66712"
  },
  {
   "cell_type": "code",
   "execution_count": 6,
   "outputs": [],
   "source": [
    "by_company = data_frame.groupby('Company')"
   ],
   "metadata": {
    "collapsed": false,
    "ExecuteTime": {
     "end_time": "2023-09-04T10:35:26.273811848Z",
     "start_time": "2023-09-04T10:35:26.197394467Z"
    }
   },
   "id": "96c830b3d3c94392"
  },
  {
   "cell_type": "code",
   "execution_count": 8,
   "outputs": [
    {
     "data": {
      "text/plain": "                Person  Sales\nCompany                      \nFB       SharadSandeep    400\nGOOG       RahulVishal    400\nMSFT        SagarKaran    350",
      "text/html": "<div>\n<style scoped>\n    .dataframe tbody tr th:only-of-type {\n        vertical-align: middle;\n    }\n\n    .dataframe tbody tr th {\n        vertical-align: top;\n    }\n\n    .dataframe thead th {\n        text-align: right;\n    }\n</style>\n<table border=\"1\" class=\"dataframe\">\n  <thead>\n    <tr style=\"text-align: right;\">\n      <th></th>\n      <th>Person</th>\n      <th>Sales</th>\n    </tr>\n    <tr>\n      <th>Company</th>\n      <th></th>\n      <th></th>\n    </tr>\n  </thead>\n  <tbody>\n    <tr>\n      <th>FB</th>\n      <td>SharadSandeep</td>\n      <td>400</td>\n    </tr>\n    <tr>\n      <th>GOOG</th>\n      <td>RahulVishal</td>\n      <td>400</td>\n    </tr>\n    <tr>\n      <th>MSFT</th>\n      <td>SagarKaran</td>\n      <td>350</td>\n    </tr>\n  </tbody>\n</table>\n</div>"
     },
     "execution_count": 8,
     "metadata": {},
     "output_type": "execute_result"
    }
   ],
   "source": [
    "by_company.sum()"
   ],
   "metadata": {
    "collapsed": false,
    "ExecuteTime": {
     "end_time": "2023-09-04T10:36:04.633377893Z",
     "start_time": "2023-09-04T10:36:04.586570430Z"
    }
   },
   "id": "d4337ced7babe4b3"
  },
  {
   "cell_type": "code",
   "execution_count": 12,
   "outputs": [
    {
     "data": {
      "text/plain": "Person    SharadSandeep\nSales               400\nName: FB, dtype: object"
     },
     "execution_count": 12,
     "metadata": {},
     "output_type": "execute_result"
    }
   ],
   "source": [
    "by_company.sum().loc['FB']"
   ],
   "metadata": {
    "collapsed": false,
    "ExecuteTime": {
     "end_time": "2023-09-04T10:37:19.154548623Z",
     "start_time": "2023-09-04T10:37:19.121559886Z"
    }
   },
   "id": "e4b9ec8176fba844"
  },
  {
   "cell_type": "code",
   "execution_count": 13,
   "outputs": [
    {
     "data": {
      "text/plain": "         Person  Sales\nCompany               \nFB       Sharad    220\nGOOG     Vishal    300\nMSFT      Sagar    200",
      "text/html": "<div>\n<style scoped>\n    .dataframe tbody tr th:only-of-type {\n        vertical-align: middle;\n    }\n\n    .dataframe tbody tr th {\n        vertical-align: top;\n    }\n\n    .dataframe thead th {\n        text-align: right;\n    }\n</style>\n<table border=\"1\" class=\"dataframe\">\n  <thead>\n    <tr style=\"text-align: right;\">\n      <th></th>\n      <th>Person</th>\n      <th>Sales</th>\n    </tr>\n    <tr>\n      <th>Company</th>\n      <th></th>\n      <th></th>\n    </tr>\n  </thead>\n  <tbody>\n    <tr>\n      <th>FB</th>\n      <td>Sharad</td>\n      <td>220</td>\n    </tr>\n    <tr>\n      <th>GOOG</th>\n      <td>Vishal</td>\n      <td>300</td>\n    </tr>\n    <tr>\n      <th>MSFT</th>\n      <td>Sagar</td>\n      <td>200</td>\n    </tr>\n  </tbody>\n</table>\n</div>"
     },
     "execution_count": 13,
     "metadata": {},
     "output_type": "execute_result"
    }
   ],
   "source": [
    "by_company.max()"
   ],
   "metadata": {
    "collapsed": false,
    "ExecuteTime": {
     "end_time": "2023-09-04T10:37:39.162534597Z",
     "start_time": "2023-09-04T10:37:39.108828307Z"
    }
   },
   "id": "c7c257748090e78e"
  },
  {
   "cell_type": "code",
   "execution_count": 15,
   "outputs": [
    {
     "data": {
      "text/plain": "Company              FB        GOOG        MSFT\nSales count    2.000000    2.000000    2.000000\n      mean   200.000000  200.000000  175.000000\n      std     28.284271  141.421356   35.355339\n      min    180.000000  100.000000  150.000000\n      25%    190.000000  150.000000  162.500000\n      50%    200.000000  200.000000  175.000000\n      75%    210.000000  250.000000  187.500000\n      max    220.000000  300.000000  200.000000",
      "text/html": "<div>\n<style scoped>\n    .dataframe tbody tr th:only-of-type {\n        vertical-align: middle;\n    }\n\n    .dataframe tbody tr th {\n        vertical-align: top;\n    }\n\n    .dataframe thead th {\n        text-align: right;\n    }\n</style>\n<table border=\"1\" class=\"dataframe\">\n  <thead>\n    <tr style=\"text-align: right;\">\n      <th></th>\n      <th>Company</th>\n      <th>FB</th>\n      <th>GOOG</th>\n      <th>MSFT</th>\n    </tr>\n  </thead>\n  <tbody>\n    <tr>\n      <th rowspan=\"8\" valign=\"top\">Sales</th>\n      <th>count</th>\n      <td>2.000000</td>\n      <td>2.000000</td>\n      <td>2.000000</td>\n    </tr>\n    <tr>\n      <th>mean</th>\n      <td>200.000000</td>\n      <td>200.000000</td>\n      <td>175.000000</td>\n    </tr>\n    <tr>\n      <th>std</th>\n      <td>28.284271</td>\n      <td>141.421356</td>\n      <td>35.355339</td>\n    </tr>\n    <tr>\n      <th>min</th>\n      <td>180.000000</td>\n      <td>100.000000</td>\n      <td>150.000000</td>\n    </tr>\n    <tr>\n      <th>25%</th>\n      <td>190.000000</td>\n      <td>150.000000</td>\n      <td>162.500000</td>\n    </tr>\n    <tr>\n      <th>50%</th>\n      <td>200.000000</td>\n      <td>200.000000</td>\n      <td>175.000000</td>\n    </tr>\n    <tr>\n      <th>75%</th>\n      <td>210.000000</td>\n      <td>250.000000</td>\n      <td>187.500000</td>\n    </tr>\n    <tr>\n      <th>max</th>\n      <td>220.000000</td>\n      <td>300.000000</td>\n      <td>200.000000</td>\n    </tr>\n  </tbody>\n</table>\n</div>"
     },
     "execution_count": 15,
     "metadata": {},
     "output_type": "execute_result"
    }
   ],
   "source": [
    "by_company.describe().transpose()"
   ],
   "metadata": {
    "collapsed": false,
    "ExecuteTime": {
     "end_time": "2023-09-04T10:38:36.547214652Z",
     "start_time": "2023-09-04T10:38:36.481067501Z"
    }
   },
   "id": "406bd958231908c8"
  },
  {
   "cell_type": "code",
   "execution_count": null,
   "outputs": [],
   "source": [],
   "metadata": {
    "collapsed": false
   },
   "id": "48139b19c1e9b22a"
  }
 ],
 "metadata": {
  "kernelspec": {
   "display_name": "Python 3",
   "language": "python",
   "name": "python3"
  },
  "language_info": {
   "codemirror_mode": {
    "name": "ipython",
    "version": 2
   },
   "file_extension": ".py",
   "mimetype": "text/x-python",
   "name": "python",
   "nbconvert_exporter": "python",
   "pygments_lexer": "ipython2",
   "version": "2.7.6"
  }
 },
 "nbformat": 4,
 "nbformat_minor": 5
}
