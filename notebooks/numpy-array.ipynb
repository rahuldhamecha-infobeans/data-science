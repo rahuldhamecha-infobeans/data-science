{
 "cells": [
  {
   "cell_type": "code",
   "execution_count": 2,
   "id": "3e62e53f-ce42-4893-9b5a-c3aac0a0a513",
   "metadata": {},
   "outputs": [],
   "source": [
    "my_list = [1,2,3]"
   ]
  },
  {
   "cell_type": "code",
   "execution_count": 3,
   "id": "997c0dcb-5777-4bec-ac60-36f2258f3bea",
   "metadata": {},
   "outputs": [],
   "source": [
    "import numpy as np"
   ]
  },
  {
   "cell_type": "code",
   "execution_count": 4,
   "id": "5d165aac-d64f-4136-9c01-a94012396e75",
   "metadata": {},
   "outputs": [],
   "source": [
    "arr = np.array(my_list)"
   ]
  },
  {
   "cell_type": "code",
   "execution_count": 5,
   "id": "901b78ca-bc85-4a18-8533-41932632a012",
   "metadata": {},
   "outputs": [
    {
     "data": {
      "text/plain": [
       "array([1, 2, 3])"
      ]
     },
     "execution_count": 5,
     "metadata": {},
     "output_type": "execute_result"
    }
   ],
   "source": [
    "arr"
   ]
  },
  {
   "cell_type": "code",
   "execution_count": 6,
   "id": "3a4dfc61-7fdf-4273-bcf5-597409229713",
   "metadata": {},
   "outputs": [],
   "source": [
    "my_mat = [[1,2,3],[4,5,6],[7,8,9]]"
   ]
  },
  {
   "cell_type": "code",
   "execution_count": 13,
   "id": "1d00d94c-a642-476a-9b22-93e907d67fbe",
   "metadata": {},
   "outputs": [
    {
     "data": {
      "text/plain": [
       "array([[1, 2, 3],\n",
       "       [4, 5, 6],\n",
       "       [7, 8, 9]])"
      ]
     },
     "execution_count": 13,
     "metadata": {},
     "output_type": "execute_result"
    }
   ],
   "source": [
    "np.array(my_mat) # Convert single line array to matrix"
   ]
  },
  {
   "cell_type": "code",
   "execution_count": 14,
   "id": "46a09338-355a-46ac-a3e0-e74a4f87667f",
   "metadata": {},
   "outputs": [
    {
     "data": {
      "text/plain": [
       "array([ 0,  2,  4,  6,  8, 10])"
      ]
     },
     "execution_count": 14,
     "metadata": {},
     "output_type": "execute_result"
    }
   ],
   "source": [
    "np.arange(0,11,2) # Generate the event number array with size"
   ]
  },
  {
   "cell_type": "code",
   "execution_count": 16,
   "id": "2b19ceb9-4182-4a0d-8f89-1050a029aa9d",
   "metadata": {},
   "outputs": [
    {
     "data": {
      "text/plain": [
       "array([[0., 0., 0.],\n",
       "       [0., 0., 0.],\n",
       "       [0., 0., 0.]])"
      ]
     },
     "execution_count": 16,
     "metadata": {},
     "output_type": "execute_result"
    }
   ],
   "source": [
    "np.zeros((3,3)) # Generate 3x3 Matrix for zeros"
   ]
  },
  {
   "cell_type": "code",
   "execution_count": 17,
   "id": "658b5f1b-dd3e-46c0-bcdf-c9ffa15e737f",
   "metadata": {},
   "outputs": [
    {
     "data": {
      "text/plain": [
       "array([1., 1., 1., 1.])"
      ]
     },
     "execution_count": 17,
     "metadata": {},
     "output_type": "execute_result"
    }
   ],
   "source": [
    "np.ones(4) # Generate 4 ones array"
   ]
  },
  {
   "cell_type": "code",
   "execution_count": 19,
   "id": "d947f3bd-ebdf-4bf2-8a5d-6782e38e5c9f",
   "metadata": {},
   "outputs": [
    {
     "data": {
      "text/plain": [
       "array([0.        , 0.05050505, 0.1010101 , 0.15151515, 0.2020202 ,\n",
       "       0.25252525, 0.3030303 , 0.35353535, 0.4040404 , 0.45454545,\n",
       "       0.50505051, 0.55555556, 0.60606061, 0.65656566, 0.70707071,\n",
       "       0.75757576, 0.80808081, 0.85858586, 0.90909091, 0.95959596,\n",
       "       1.01010101, 1.06060606, 1.11111111, 1.16161616, 1.21212121,\n",
       "       1.26262626, 1.31313131, 1.36363636, 1.41414141, 1.46464646,\n",
       "       1.51515152, 1.56565657, 1.61616162, 1.66666667, 1.71717172,\n",
       "       1.76767677, 1.81818182, 1.86868687, 1.91919192, 1.96969697,\n",
       "       2.02020202, 2.07070707, 2.12121212, 2.17171717, 2.22222222,\n",
       "       2.27272727, 2.32323232, 2.37373737, 2.42424242, 2.47474747,\n",
       "       2.52525253, 2.57575758, 2.62626263, 2.67676768, 2.72727273,\n",
       "       2.77777778, 2.82828283, 2.87878788, 2.92929293, 2.97979798,\n",
       "       3.03030303, 3.08080808, 3.13131313, 3.18181818, 3.23232323,\n",
       "       3.28282828, 3.33333333, 3.38383838, 3.43434343, 3.48484848,\n",
       "       3.53535354, 3.58585859, 3.63636364, 3.68686869, 3.73737374,\n",
       "       3.78787879, 3.83838384, 3.88888889, 3.93939394, 3.98989899,\n",
       "       4.04040404, 4.09090909, 4.14141414, 4.19191919, 4.24242424,\n",
       "       4.29292929, 4.34343434, 4.39393939, 4.44444444, 4.49494949,\n",
       "       4.54545455, 4.5959596 , 4.64646465, 4.6969697 , 4.74747475,\n",
       "       4.7979798 , 4.84848485, 4.8989899 , 4.94949495, 5.        ])"
      ]
     },
     "execution_count": 19,
     "metadata": {},
     "output_type": "execute_result"
    }
   ],
   "source": [
    "np.linspace(0,5,100) # Generate array with 100 item between value 0 to 5"
   ]
  },
  {
   "cell_type": "code",
   "execution_count": 20,
   "id": "469f6094-3054-4772-b5a3-7f8723eb3176",
   "metadata": {},
   "outputs": [
    {
     "data": {
      "text/plain": [
       "array([[1., 0., 0., 0.],\n",
       "       [0., 1., 0., 0.],\n",
       "       [0., 0., 1., 0.],\n",
       "       [0., 0., 0., 1.]])"
      ]
     },
     "execution_count": 20,
     "metadata": {},
     "output_type": "execute_result"
    }
   ],
   "source": [
    "np.eye(4) # Generateb 4x4 Matrix of 0 and 1"
   ]
  },
  {
   "cell_type": "code",
   "execution_count": 21,
   "id": "8fdb64c6-5cbc-49a9-80b6-a423bf0da5bd",
   "metadata": {},
   "outputs": [
    {
     "data": {
      "text/plain": [
       "array([[1., 1., 1., 1.],\n",
       "       [1., 1., 1., 1.],\n",
       "       [1., 1., 1., 1.]])"
      ]
     },
     "execution_count": 21,
     "metadata": {},
     "output_type": "execute_result"
    }
   ],
   "source": [
    "np.ones((3,4)) # Generate all ones 3x4 matrix"
   ]
  },
  {
   "cell_type": "code",
   "execution_count": 22,
   "id": "f0ca7353-b0d7-4f98-8037-36d00424b6e3",
   "metadata": {},
   "outputs": [
    {
     "data": {
      "text/plain": [
       "array([0.43149786, 0.97547358, 0.94947786, 0.85319884, 0.7575099 ])"
      ]
     },
     "execution_count": 22,
     "metadata": {},
     "output_type": "execute_result"
    }
   ],
   "source": [
    "np.random.rand(5) # Generate 5 random values "
   ]
  },
  {
   "cell_type": "code",
   "execution_count": 24,
   "id": "2fa55489-8c5c-4399-9eab-d3064ec43017",
   "metadata": {},
   "outputs": [
    {
     "data": {
      "text/plain": [
       "array([[0.34376204, 0.56081635, 0.82025671, 0.16167618, 0.70917511],\n",
       "       [0.00907192, 0.54843282, 0.54593378, 0.66658696, 0.78558745],\n",
       "       [0.28127318, 0.08920067, 0.2072205 , 0.4439081 , 0.56569263],\n",
       "       [0.10922138, 0.86157718, 0.94250474, 0.91693962, 0.62264798],\n",
       "       [0.57109036, 0.27659487, 0.34065093, 0.05566971, 0.38304917]])"
      ]
     },
     "execution_count": 24,
     "metadata": {},
     "output_type": "execute_result"
    }
   ],
   "source": [
    "np.random.rand(5,5) # Generate 5x5 Random matrix "
   ]
  },
  {
   "cell_type": "code",
   "execution_count": 27,
   "id": "76b4712e-af30-4f84-9397-8e81bef82c34",
   "metadata": {},
   "outputs": [
    {
     "data": {
      "text/plain": [
       "array([-0.4576278 ,  1.15481282])"
      ]
     },
     "execution_count": 27,
     "metadata": {},
     "output_type": "execute_result"
    }
   ],
   "source": [
    "np.random.randn(2) # Generate 2 random value array"
   ]
  },
  {
   "cell_type": "code",
   "execution_count": 28,
   "id": "1e654291-6cd7-49dc-aa1c-ef9ea06a8dc0",
   "metadata": {},
   "outputs": [
    {
     "data": {
      "text/plain": [
       "array([[-1.34675024,  1.09530033, -0.75191013,  0.19385645],\n",
       "       [ 0.63220178,  0.24775647,  1.87312177, -0.38173341],\n",
       "       [ 0.61951403, -1.14866941,  2.20954979,  0.02427298],\n",
       "       [-0.80061995,  1.20301866,  0.17525841,  1.05495789]])"
      ]
     },
     "execution_count": 28,
     "metadata": {},
     "output_type": "execute_result"
    }
   ],
   "source": [
    "np.random.randn(4,4) # Generate 4x4 Matrix from the random values"
   ]
  },
  {
   "cell_type": "code",
   "execution_count": 29,
   "id": "cdae9c1c-d6ce-43ba-bc0a-473049bf005f",
   "metadata": {},
   "outputs": [
    {
     "data": {
      "text/plain": [
       "5"
      ]
     },
     "execution_count": 29,
     "metadata": {},
     "output_type": "execute_result"
    }
   ],
   "source": [
    "np.random.randint(1,20) # Generate Random value from 1 to 20"
   ]
  },
  {
   "cell_type": "code",
   "execution_count": 33,
   "id": "c6c4c50b-5553-4b1b-9484-58697d198415",
   "metadata": {},
   "outputs": [
    {
     "data": {
      "text/plain": [
       "array([ 0,  1,  2,  3,  4,  5,  6,  7,  8,  9, 10, 11, 12, 13, 14, 15, 16,\n",
       "       17, 18, 19, 20, 21, 22, 23, 24])"
      ]
     },
     "execution_count": 33,
     "metadata": {},
     "output_type": "execute_result"
    }
   ],
   "source": [
    "arr = np.arange(25) # Generate the 25 digit sequence array\n",
    "arr"
   ]
  },
  {
   "cell_type": "code",
   "execution_count": 34,
   "id": "27f14105-d8af-4cc3-bb24-6b3a57057712",
   "metadata": {},
   "outputs": [],
   "source": [
    "randarr = np.random.randint(0,50,10) # Generate 10 integer array using random method"
   ]
  },
  {
   "cell_type": "code",
   "execution_count": 35,
   "id": "ed173283-a637-4d66-810c-0543f2149498",
   "metadata": {},
   "outputs": [
    {
     "data": {
      "text/plain": [
       "array([47, 43, 18, 39,  2, 29,  4, 25, 24, 29])"
      ]
     },
     "execution_count": 35,
     "metadata": {},
     "output_type": "execute_result"
    }
   ],
   "source": [
    "randarr"
   ]
  },
  {
   "cell_type": "code",
   "execution_count": 41,
   "id": "97db7b40-e903-4cbb-b339-66dc5be74c67",
   "metadata": {},
   "outputs": [
    {
     "data": {
      "text/plain": [
       "array([[ 0,  1,  2,  3,  4],\n",
       "       [ 5,  6,  7,  8,  9],\n",
       "       [10, 11, 12, 13, 14],\n",
       "       [15, 16, 17, 18, 19],\n",
       "       [20, 21, 22, 23, 24]])"
      ]
     },
     "execution_count": 41,
     "metadata": {},
     "output_type": "execute_result"
    }
   ],
   "source": [
    "arr.reshape(5,5) # Convert Simple array to 5x5 Matrix"
   ]
  },
  {
   "cell_type": "code",
   "execution_count": 42,
   "id": "85b680d5-fca7-482a-8dc8-2adc2ac867b0",
   "metadata": {},
   "outputs": [
    {
     "data": {
      "text/plain": [
       "array([47, 43, 18, 39,  2, 29,  4, 25, 24, 29])"
      ]
     },
     "execution_count": 42,
     "metadata": {},
     "output_type": "execute_result"
    }
   ],
   "source": [
    "randarr"
   ]
  },
  {
   "cell_type": "code",
   "execution_count": 43,
   "id": "969b7cac-65da-4fbe-8ce4-222984e3bb5d",
   "metadata": {},
   "outputs": [
    {
     "data": {
      "text/plain": [
       "47"
      ]
     },
     "execution_count": 43,
     "metadata": {},
     "output_type": "execute_result"
    }
   ],
   "source": [
    "randarr.max() # Return Max Value From Array"
   ]
  },
  {
   "cell_type": "code",
   "execution_count": 44,
   "id": "6ab6effb-9b64-4e74-9583-94654f4a460b",
   "metadata": {},
   "outputs": [
    {
     "data": {
      "text/plain": [
       "2"
      ]
     },
     "execution_count": 44,
     "metadata": {},
     "output_type": "execute_result"
    }
   ],
   "source": [
    "randarr.min() # Return Min Value From Array"
   ]
  },
  {
   "cell_type": "code",
   "execution_count": 45,
   "id": "52455aa6-61c9-4b21-9440-ff00c7449f77",
   "metadata": {},
   "outputs": [
    {
     "data": {
      "text/plain": [
       "0"
      ]
     },
     "execution_count": 45,
     "metadata": {},
     "output_type": "execute_result"
    }
   ],
   "source": [
    "randarr.argmax() # Return Max Value Index Location"
   ]
  },
  {
   "cell_type": "code",
   "execution_count": 46,
   "id": "4b4bd3f7-416f-42ad-af71-cc27f98dd3ed",
   "metadata": {},
   "outputs": [
    {
     "data": {
      "text/plain": [
       "4"
      ]
     },
     "execution_count": 46,
     "metadata": {},
     "output_type": "execute_result"
    }
   ],
   "source": [
    "randarr.argmin() # Return Min Value Index Location"
   ]
  },
  {
   "cell_type": "code",
   "execution_count": 47,
   "id": "b403e805-0457-472a-8a4f-325a89a135bc",
   "metadata": {},
   "outputs": [
    {
     "data": {
      "text/plain": [
       "(25,)"
      ]
     },
     "execution_count": 47,
     "metadata": {},
     "output_type": "execute_result"
    }
   ],
   "source": [
    "arr.shape # Return size of array matrix"
   ]
  },
  {
   "cell_type": "code",
   "execution_count": 48,
   "id": "2d534a6f-849b-4a3e-853a-5b00bb654912",
   "metadata": {},
   "outputs": [],
   "source": [
    "arr = arr.reshape(5,5) # Reshape the array in 5x5 matrix"
   ]
  },
  {
   "cell_type": "code",
   "execution_count": 49,
   "id": "945f47aa-6b6c-4cc4-8cbf-3dc57a558fcd",
   "metadata": {},
   "outputs": [
    {
     "data": {
      "text/plain": [
       "(5, 5)"
      ]
     },
     "execution_count": 49,
     "metadata": {},
     "output_type": "execute_result"
    }
   ],
   "source": [
    "arr.shape"
   ]
  },
  {
   "cell_type": "code",
   "execution_count": 50,
   "id": "1b719378-0be0-4abf-809a-aeb9352c2003",
   "metadata": {},
   "outputs": [
    {
     "data": {
      "text/plain": [
       "dtype('int64')"
      ]
     },
     "execution_count": 50,
     "metadata": {},
     "output_type": "execute_result"
    }
   ],
   "source": [
    "arr.dtype # Return the array data type"
   ]
  },
  {
   "cell_type": "code",
   "execution_count": 51,
   "id": "ceb5f2d1-a012-45f2-bd1b-8bed0184c565",
   "metadata": {},
   "outputs": [],
   "source": [
    "from numpy.random import randint"
   ]
  },
  {
   "cell_type": "code",
   "execution_count": 53,
   "id": "bdd31d10-0f73-4fe2-b813-26e6c6181134",
   "metadata": {},
   "outputs": [
    {
     "data": {
      "text/plain": [
       "array([6, 3, 7, 5, 8])"
      ]
     },
     "execution_count": 53,
     "metadata": {},
     "output_type": "execute_result"
    }
   ],
   "source": [
    "randint(2,10,5)"
   ]
  },
  {
   "cell_type": "code",
   "execution_count": null,
   "id": "27da6b00-7835-4c6a-93cf-82edbf761f7d",
   "metadata": {},
   "outputs": [],
   "source": []
  }
 ],
 "metadata": {
  "kernelspec": {
   "display_name": "Python 3 (ipykernel)",
   "language": "python",
   "name": "python3"
  },
  "language_info": {
   "codemirror_mode": {
    "name": "ipython",
    "version": 3
   },
   "file_extension": ".py",
   "mimetype": "text/x-python",
   "name": "python",
   "nbconvert_exporter": "python",
   "pygments_lexer": "ipython3",
   "version": "3.11.4"
  }
 },
 "nbformat": 4,
 "nbformat_minor": 5
}
