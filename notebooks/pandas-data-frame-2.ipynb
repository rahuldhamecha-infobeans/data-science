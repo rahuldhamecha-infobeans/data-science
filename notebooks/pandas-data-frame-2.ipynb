{
 "cells": [
  {
   "cell_type": "code",
   "execution_count": null,
   "id": "initial_id",
   "metadata": {
    "collapsed": true
   },
   "outputs": [],
   "source": []
  },
  {
   "cell_type": "code",
   "execution_count": 1,
   "outputs": [],
   "source": [
    "import numpy as np\n",
    "import pandas as pd\n",
    "from numpy.random import randn"
   ],
   "metadata": {
    "collapsed": false,
    "ExecuteTime": {
     "end_time": "2023-09-04T10:13:16.426425693Z",
     "start_time": "2023-09-04T10:13:16.217120064Z"
    }
   },
   "id": "3b3d2110ee1936f3"
  },
  {
   "cell_type": "code",
   "execution_count": 8,
   "outputs": [],
   "source": [
    "outside = ['G1','G1','G1','G2','G2','G2',]\n",
    "inside = [1,2,3,1,2,3]\n",
    "hire_index = list(zip(outside,inside))\n",
    "hire_index = pd.MultiIndex.from_tuples(hire_index)"
   ],
   "metadata": {
    "collapsed": false,
    "ExecuteTime": {
     "end_time": "2023-09-04T10:17:15.327618350Z",
     "start_time": "2023-09-04T10:17:15.284732409Z"
    }
   },
   "id": "43a303012ad33479"
  },
  {
   "cell_type": "code",
   "execution_count": 9,
   "outputs": [
    {
     "data": {
      "text/plain": "MultiIndex([('G1', 1),\n            ('G1', 2),\n            ('G1', 3),\n            ('G2', 1),\n            ('G2', 2),\n            ('G2', 3)],\n           )"
     },
     "execution_count": 9,
     "metadata": {},
     "output_type": "execute_result"
    }
   ],
   "source": [
    "hire_index"
   ],
   "metadata": {
    "collapsed": false,
    "ExecuteTime": {
     "end_time": "2023-09-04T10:17:16.691523501Z",
     "start_time": "2023-09-04T10:17:16.629703378Z"
    }
   },
   "id": "9f6cac66351ac947"
  },
  {
   "cell_type": "code",
   "execution_count": 10,
   "outputs": [],
   "source": [
    "data_frame = pd.DataFrame(randn(6,2),hire_index,['A','B'])"
   ],
   "metadata": {
    "collapsed": false,
    "ExecuteTime": {
     "end_time": "2023-09-04T10:17:19.216964768Z",
     "start_time": "2023-09-04T10:17:19.154875617Z"
    }
   },
   "id": "bf46526961b013ff"
  },
  {
   "cell_type": "code",
   "execution_count": 11,
   "outputs": [
    {
     "data": {
      "text/plain": "             A         B\nG1 1  0.600081  0.378841\n   2  1.831982 -0.585190\n   3 -1.175568 -1.802779\nG2 1 -2.936259  0.649001\n   2  1.691847  0.162387\n   3  0.843431  1.646262",
      "text/html": "<div>\n<style scoped>\n    .dataframe tbody tr th:only-of-type {\n        vertical-align: middle;\n    }\n\n    .dataframe tbody tr th {\n        vertical-align: top;\n    }\n\n    .dataframe thead th {\n        text-align: right;\n    }\n</style>\n<table border=\"1\" class=\"dataframe\">\n  <thead>\n    <tr style=\"text-align: right;\">\n      <th></th>\n      <th></th>\n      <th>A</th>\n      <th>B</th>\n    </tr>\n  </thead>\n  <tbody>\n    <tr>\n      <th rowspan=\"3\" valign=\"top\">G1</th>\n      <th>1</th>\n      <td>0.600081</td>\n      <td>0.378841</td>\n    </tr>\n    <tr>\n      <th>2</th>\n      <td>1.831982</td>\n      <td>-0.585190</td>\n    </tr>\n    <tr>\n      <th>3</th>\n      <td>-1.175568</td>\n      <td>-1.802779</td>\n    </tr>\n    <tr>\n      <th rowspan=\"3\" valign=\"top\">G2</th>\n      <th>1</th>\n      <td>-2.936259</td>\n      <td>0.649001</td>\n    </tr>\n    <tr>\n      <th>2</th>\n      <td>1.691847</td>\n      <td>0.162387</td>\n    </tr>\n    <tr>\n      <th>3</th>\n      <td>0.843431</td>\n      <td>1.646262</td>\n    </tr>\n  </tbody>\n</table>\n</div>"
     },
     "execution_count": 11,
     "metadata": {},
     "output_type": "execute_result"
    }
   ],
   "source": [
    "data_frame"
   ],
   "metadata": {
    "collapsed": false,
    "ExecuteTime": {
     "end_time": "2023-09-04T10:17:20.499908334Z",
     "start_time": "2023-09-04T10:17:20.469424191Z"
    }
   },
   "id": "6166bad23765b661"
  },
  {
   "cell_type": "code",
   "execution_count": 12,
   "outputs": [
    {
     "data": {
      "text/plain": "          A         B\n1  0.600081  0.378841\n2  1.831982 -0.585190\n3 -1.175568 -1.802779",
      "text/html": "<div>\n<style scoped>\n    .dataframe tbody tr th:only-of-type {\n        vertical-align: middle;\n    }\n\n    .dataframe tbody tr th {\n        vertical-align: top;\n    }\n\n    .dataframe thead th {\n        text-align: right;\n    }\n</style>\n<table border=\"1\" class=\"dataframe\">\n  <thead>\n    <tr style=\"text-align: right;\">\n      <th></th>\n      <th>A</th>\n      <th>B</th>\n    </tr>\n  </thead>\n  <tbody>\n    <tr>\n      <th>1</th>\n      <td>0.600081</td>\n      <td>0.378841</td>\n    </tr>\n    <tr>\n      <th>2</th>\n      <td>1.831982</td>\n      <td>-0.585190</td>\n    </tr>\n    <tr>\n      <th>3</th>\n      <td>-1.175568</td>\n      <td>-1.802779</td>\n    </tr>\n  </tbody>\n</table>\n</div>"
     },
     "execution_count": 12,
     "metadata": {},
     "output_type": "execute_result"
    }
   ],
   "source": [
    "data_frame.loc['G1']"
   ],
   "metadata": {
    "collapsed": false,
    "ExecuteTime": {
     "end_time": "2023-09-04T10:17:36.291942914Z",
     "start_time": "2023-09-04T10:17:36.201119852Z"
    }
   },
   "id": "c587c1edd76fb192"
  },
  {
   "cell_type": "code",
   "execution_count": 15,
   "outputs": [],
   "source": [
    "data_frame.index.names = ['Groups','Numbers']"
   ],
   "metadata": {
    "collapsed": false,
    "ExecuteTime": {
     "end_time": "2023-09-04T10:18:29.229750158Z",
     "start_time": "2023-09-04T10:18:29.189366424Z"
    }
   },
   "id": "487e36a41964d2b6"
  },
  {
   "cell_type": "code",
   "execution_count": 16,
   "outputs": [
    {
     "data": {
      "text/plain": "                       A         B\nGroups Numbers                    \nG1     1        0.600081  0.378841\n       2        1.831982 -0.585190\n       3       -1.175568 -1.802779\nG2     1       -2.936259  0.649001\n       2        1.691847  0.162387\n       3        0.843431  1.646262",
      "text/html": "<div>\n<style scoped>\n    .dataframe tbody tr th:only-of-type {\n        vertical-align: middle;\n    }\n\n    .dataframe tbody tr th {\n        vertical-align: top;\n    }\n\n    .dataframe thead th {\n        text-align: right;\n    }\n</style>\n<table border=\"1\" class=\"dataframe\">\n  <thead>\n    <tr style=\"text-align: right;\">\n      <th></th>\n      <th></th>\n      <th>A</th>\n      <th>B</th>\n    </tr>\n    <tr>\n      <th>Groups</th>\n      <th>Numbers</th>\n      <th></th>\n      <th></th>\n    </tr>\n  </thead>\n  <tbody>\n    <tr>\n      <th rowspan=\"3\" valign=\"top\">G1</th>\n      <th>1</th>\n      <td>0.600081</td>\n      <td>0.378841</td>\n    </tr>\n    <tr>\n      <th>2</th>\n      <td>1.831982</td>\n      <td>-0.585190</td>\n    </tr>\n    <tr>\n      <th>3</th>\n      <td>-1.175568</td>\n      <td>-1.802779</td>\n    </tr>\n    <tr>\n      <th rowspan=\"3\" valign=\"top\">G2</th>\n      <th>1</th>\n      <td>-2.936259</td>\n      <td>0.649001</td>\n    </tr>\n    <tr>\n      <th>2</th>\n      <td>1.691847</td>\n      <td>0.162387</td>\n    </tr>\n    <tr>\n      <th>3</th>\n      <td>0.843431</td>\n      <td>1.646262</td>\n    </tr>\n  </tbody>\n</table>\n</div>"
     },
     "execution_count": 16,
     "metadata": {},
     "output_type": "execute_result"
    }
   ],
   "source": [
    "data_frame"
   ],
   "metadata": {
    "collapsed": false,
    "ExecuteTime": {
     "end_time": "2023-09-04T10:18:35.796110006Z",
     "start_time": "2023-09-04T10:18:35.746178141Z"
    }
   },
   "id": "fc57ef300544d3c8"
  },
  {
   "cell_type": "code",
   "execution_count": 20,
   "outputs": [
    {
     "data": {
      "text/plain": "A    1.691847\nB    0.162387\nName: 2, dtype: float64"
     },
     "execution_count": 20,
     "metadata": {},
     "output_type": "execute_result"
    }
   ],
   "source": [
    "data_frame.loc['G2'].loc[2]"
   ],
   "metadata": {
    "collapsed": false,
    "ExecuteTime": {
     "end_time": "2023-09-04T10:19:56.750152312Z",
     "start_time": "2023-09-04T10:19:56.661771330Z"
    }
   },
   "id": "bb2363968c96ad2e"
  },
  {
   "cell_type": "code",
   "execution_count": 25,
   "outputs": [
    {
     "data": {
      "text/plain": "                A         B\nNumbers                    \n1        0.600081  0.378841\n2        1.831982 -0.585190\n3       -1.175568 -1.802779",
      "text/html": "<div>\n<style scoped>\n    .dataframe tbody tr th:only-of-type {\n        vertical-align: middle;\n    }\n\n    .dataframe tbody tr th {\n        vertical-align: top;\n    }\n\n    .dataframe thead th {\n        text-align: right;\n    }\n</style>\n<table border=\"1\" class=\"dataframe\">\n  <thead>\n    <tr style=\"text-align: right;\">\n      <th></th>\n      <th>A</th>\n      <th>B</th>\n    </tr>\n    <tr>\n      <th>Numbers</th>\n      <th></th>\n      <th></th>\n    </tr>\n  </thead>\n  <tbody>\n    <tr>\n      <th>1</th>\n      <td>0.600081</td>\n      <td>0.378841</td>\n    </tr>\n    <tr>\n      <th>2</th>\n      <td>1.831982</td>\n      <td>-0.585190</td>\n    </tr>\n    <tr>\n      <th>3</th>\n      <td>-1.175568</td>\n      <td>-1.802779</td>\n    </tr>\n  </tbody>\n</table>\n</div>"
     },
     "execution_count": 25,
     "metadata": {},
     "output_type": "execute_result"
    }
   ],
   "source": [
    "data_frame.xs('G1')"
   ],
   "metadata": {
    "collapsed": false,
    "ExecuteTime": {
     "end_time": "2023-09-04T10:21:21.042468532Z",
     "start_time": "2023-09-04T10:21:20.998300455Z"
    }
   },
   "id": "469141f5d41fbc73"
  },
  {
   "cell_type": "code",
   "execution_count": 29,
   "outputs": [
    {
     "data": {
      "text/plain": "               A         B\nGroups                    \nG1      0.600081  0.378841\nG2     -2.936259  0.649001",
      "text/html": "<div>\n<style scoped>\n    .dataframe tbody tr th:only-of-type {\n        vertical-align: middle;\n    }\n\n    .dataframe tbody tr th {\n        vertical-align: top;\n    }\n\n    .dataframe thead th {\n        text-align: right;\n    }\n</style>\n<table border=\"1\" class=\"dataframe\">\n  <thead>\n    <tr style=\"text-align: right;\">\n      <th></th>\n      <th>A</th>\n      <th>B</th>\n    </tr>\n    <tr>\n      <th>Groups</th>\n      <th></th>\n      <th></th>\n    </tr>\n  </thead>\n  <tbody>\n    <tr>\n      <th>G1</th>\n      <td>0.600081</td>\n      <td>0.378841</td>\n    </tr>\n    <tr>\n      <th>G2</th>\n      <td>-2.936259</td>\n      <td>0.649001</td>\n    </tr>\n  </tbody>\n</table>\n</div>"
     },
     "execution_count": 29,
     "metadata": {},
     "output_type": "execute_result"
    }
   ],
   "source": [
    "data_frame.xs(1,level='Numbers')"
   ],
   "metadata": {
    "collapsed": false,
    "ExecuteTime": {
     "end_time": "2023-09-04T10:22:02.034580467Z",
     "start_time": "2023-09-04T10:22:02.003044940Z"
    }
   },
   "id": "b79f962c74063f6"
  },
  {
   "cell_type": "code",
   "execution_count": 31,
   "outputs": [
    {
     "data": {
      "text/plain": "                       A         B\nGroups Numbers                    \nG1     1        0.600081  0.378841\n       2        1.831982 -0.585190\n       3       -1.175568 -1.802779\nG2     1       -2.936259  0.649001\n       2        1.691847  0.162387\n       3        0.843431  1.646262",
      "text/html": "<div>\n<style scoped>\n    .dataframe tbody tr th:only-of-type {\n        vertical-align: middle;\n    }\n\n    .dataframe tbody tr th {\n        vertical-align: top;\n    }\n\n    .dataframe thead th {\n        text-align: right;\n    }\n</style>\n<table border=\"1\" class=\"dataframe\">\n  <thead>\n    <tr style=\"text-align: right;\">\n      <th></th>\n      <th></th>\n      <th>A</th>\n      <th>B</th>\n    </tr>\n    <tr>\n      <th>Groups</th>\n      <th>Numbers</th>\n      <th></th>\n      <th></th>\n    </tr>\n  </thead>\n  <tbody>\n    <tr>\n      <th rowspan=\"3\" valign=\"top\">G1</th>\n      <th>1</th>\n      <td>0.600081</td>\n      <td>0.378841</td>\n    </tr>\n    <tr>\n      <th>2</th>\n      <td>1.831982</td>\n      <td>-0.585190</td>\n    </tr>\n    <tr>\n      <th>3</th>\n      <td>-1.175568</td>\n      <td>-1.802779</td>\n    </tr>\n    <tr>\n      <th rowspan=\"3\" valign=\"top\">G2</th>\n      <th>1</th>\n      <td>-2.936259</td>\n      <td>0.649001</td>\n    </tr>\n    <tr>\n      <th>2</th>\n      <td>1.691847</td>\n      <td>0.162387</td>\n    </tr>\n    <tr>\n      <th>3</th>\n      <td>0.843431</td>\n      <td>1.646262</td>\n    </tr>\n  </tbody>\n</table>\n</div>"
     },
     "execution_count": 31,
     "metadata": {},
     "output_type": "execute_result"
    }
   ],
   "source": [
    "data_frame"
   ],
   "metadata": {
    "collapsed": false,
    "ExecuteTime": {
     "end_time": "2023-09-04T10:22:42.621501354Z",
     "start_time": "2023-09-04T10:22:42.571637871Z"
    }
   },
   "id": "ca25ec2adf0834c1"
  },
  {
   "cell_type": "code",
   "execution_count": null,
   "outputs": [],
   "source": [],
   "metadata": {
    "collapsed": false
   },
   "id": "235ae52db62cbc50"
  }
 ],
 "metadata": {
  "kernelspec": {
   "display_name": "Python 3",
   "language": "python",
   "name": "python3"
  },
  "language_info": {
   "codemirror_mode": {
    "name": "ipython",
    "version": 2
   },
   "file_extension": ".py",
   "mimetype": "text/x-python",
   "name": "python",
   "nbconvert_exporter": "python",
   "pygments_lexer": "ipython2",
   "version": "2.7.6"
  }
 },
 "nbformat": 4,
 "nbformat_minor": 5
}
